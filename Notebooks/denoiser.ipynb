{
 "cells": [
  {
   "cell_type": "markdown",
   "metadata": {},
   "source": [
    "## Denoising the Data.\n",
    "\n",
    "- Through EDA, features seem to have noise added in it (Noise ~ [0,0.01])\n",
    "- General Property of money is to have peaks (Since money is kind of discrete. Peak at 0 and other integers and in the discrete multiple of 0.01) are expected in some sense (even if the variables are transformed)\n",
    "- Number of unique values in what appears categorical features (through plots) are way higher. Hence the following function is applied to denoise the data \n",
    "**(np.floor(x*100))**"
   ]
  },
  {
   "cell_type": "code",
   "execution_count": 1,
   "metadata": {},
   "outputs": [],
   "source": [
    "import pandas as pd\n",
    "import numpy as np\n",
    "import seaborn as sns\n",
    "import pickle\n",
    "import joblib\n",
    "import matplotlib.pyplot as plt\n",
    "from tqdm import tqdm"
   ]
  },
  {
   "cell_type": "code",
   "execution_count": 21,
   "metadata": {},
   "outputs": [],
   "source": [
    "X = pd.read_csv('datasets/Modelling_students/train_allx.csv',memory_map=True)\n",
    "y = pd.read_csv('datasets/Modelling_students/train_y.csv',memory_map=True)\n",
    "X_val = pd.read_csv('datasets/Modelling_students/val_allx.csv',memory_map=True)"
   ]
  },
  {
   "cell_type": "code",
   "execution_count": 22,
   "metadata": {},
   "outputs": [],
   "source": [
    "def denoise(df):\n",
    "    # Columns D_36 and D_44 have texts in them and are of categorical type\n",
    "    # So these variables are one-hot encoded\n",
    "    dummies1 = pd.get_dummies(df.D_36, prefix = 'onehot_')\n",
    "    dummies2 = pd.get_dummies(df.D_44, prefix = 'onehot_')\n",
    "\n",
    "    df.drop(['D_36', 'D_44'], axis=1, inplace = True)\n",
    "\n",
    "    \n",
    "    df[dummies1.keys()] = dummies1.values\n",
    "    df[dummies2.keys()] = dummies2.values\n",
    "\n",
    "    for col in tqdm(df.columns):\n",
    "        if col not in ['ID']:\n",
    "            df[col] = np.floor(df[col]*100)\n",
    "    return df"
   ]
  },
  {
   "cell_type": "code",
   "execution_count": 23,
   "metadata": {},
   "outputs": [
    {
     "name": "stderr",
     "output_type": "stream",
     "text": [
      "100%|██████████| 196/196 [00:14<00:00, 13.62it/s]\n"
     ]
    }
   ],
   "source": [
    "train = denoise(X)"
   ]
  },
  {
   "cell_type": "code",
   "execution_count": 24,
   "metadata": {},
   "outputs": [],
   "source": [
    "# saved into feather format because they are faster and smaller to store\n",
    "train.to_feather('datasets/dataset1/train.feather')"
   ]
  },
  {
   "cell_type": "code",
   "execution_count": 25,
   "metadata": {},
   "outputs": [
    {
     "name": "stderr",
     "output_type": "stream",
     "text": [
      "100%|██████████| 196/196 [00:15<00:00, 12.50it/s]\n"
     ]
    }
   ],
   "source": [
    "test = denoise(X_val)"
   ]
  },
  {
   "cell_type": "code",
   "execution_count": 26,
   "metadata": {},
   "outputs": [],
   "source": [
    "test.to_feather('datasets/dataset1/test.feather')"
   ]
  },
  {
   "cell_type": "code",
   "execution_count": 2,
   "metadata": {},
   "outputs": [],
   "source": [
    "train = pd.read_feather('datasets/dataset1/train.feather')"
   ]
  },
  {
   "cell_type": "code",
   "execution_count": 3,
   "metadata": {},
   "outputs": [
    {
     "data": {
      "text/html": [
       "<div>\n",
       "<style scoped>\n",
       "    .dataframe tbody tr th:only-of-type {\n",
       "        vertical-align: middle;\n",
       "    }\n",
       "\n",
       "    .dataframe tbody tr th {\n",
       "        vertical-align: top;\n",
       "    }\n",
       "\n",
       "    .dataframe thead th {\n",
       "        text-align: right;\n",
       "    }\n",
       "</style>\n",
       "<table border=\"1\" class=\"dataframe\">\n",
       "  <thead>\n",
       "    <tr style=\"text-align: right;\">\n",
       "      <th></th>\n",
       "      <th>ID</th>\n",
       "      <th>B_37</th>\n",
       "      <th>S_24</th>\n",
       "      <th>S_4</th>\n",
       "      <th>S_14</th>\n",
       "      <th>B_25</th>\n",
       "      <th>D_38</th>\n",
       "      <th>B_30</th>\n",
       "      <th>D_138</th>\n",
       "      <th>P_2</th>\n",
       "      <th>...</th>\n",
       "      <th>S_5</th>\n",
       "      <th>onehot__CL</th>\n",
       "      <th>onehot__CO</th>\n",
       "      <th>onehot__CR</th>\n",
       "      <th>onehot__XL</th>\n",
       "      <th>onehot__XM</th>\n",
       "      <th>onehot__XZ</th>\n",
       "      <th>onehot__O</th>\n",
       "      <th>onehot__R</th>\n",
       "      <th>onehot__U</th>\n",
       "    </tr>\n",
       "  </thead>\n",
       "  <tbody>\n",
       "    <tr>\n",
       "      <th>0</th>\n",
       "      <td>3337446730</td>\n",
       "      <td>0.0</td>\n",
       "      <td>0.0</td>\n",
       "      <td>85.0</td>\n",
       "      <td>55.0</td>\n",
       "      <td>100.0</td>\n",
       "      <td>NaN</td>\n",
       "      <td>2.0</td>\n",
       "      <td>51.0</td>\n",
       "      <td>100.0</td>\n",
       "      <td>...</td>\n",
       "      <td>0.0</td>\n",
       "      <td>0.0</td>\n",
       "      <td>100.0</td>\n",
       "      <td>0.0</td>\n",
       "      <td>0.0</td>\n",
       "      <td>0.0</td>\n",
       "      <td>0.0</td>\n",
       "      <td>100.0</td>\n",
       "      <td>0.0</td>\n",
       "      <td>0.0</td>\n",
       "    </tr>\n",
       "    <tr>\n",
       "      <th>1</th>\n",
       "      <td>7888784125</td>\n",
       "      <td>0.0</td>\n",
       "      <td>0.0</td>\n",
       "      <td>75.0</td>\n",
       "      <td>68.0</td>\n",
       "      <td>0.0</td>\n",
       "      <td>NaN</td>\n",
       "      <td>8.0</td>\n",
       "      <td>55.0</td>\n",
       "      <td>68.0</td>\n",
       "      <td>...</td>\n",
       "      <td>0.0</td>\n",
       "      <td>100.0</td>\n",
       "      <td>0.0</td>\n",
       "      <td>0.0</td>\n",
       "      <td>0.0</td>\n",
       "      <td>0.0</td>\n",
       "      <td>0.0</td>\n",
       "      <td>100.0</td>\n",
       "      <td>0.0</td>\n",
       "      <td>0.0</td>\n",
       "    </tr>\n",
       "    <tr>\n",
       "      <th>2</th>\n",
       "      <td>9871378905</td>\n",
       "      <td>0.0</td>\n",
       "      <td>0.0</td>\n",
       "      <td>76.0</td>\n",
       "      <td>28.0</td>\n",
       "      <td>100.0</td>\n",
       "      <td>NaN</td>\n",
       "      <td>0.0</td>\n",
       "      <td>85.0</td>\n",
       "      <td>92.0</td>\n",
       "      <td>...</td>\n",
       "      <td>0.0</td>\n",
       "      <td>0.0</td>\n",
       "      <td>100.0</td>\n",
       "      <td>0.0</td>\n",
       "      <td>0.0</td>\n",
       "      <td>0.0</td>\n",
       "      <td>0.0</td>\n",
       "      <td>100.0</td>\n",
       "      <td>0.0</td>\n",
       "      <td>0.0</td>\n",
       "    </tr>\n",
       "    <tr>\n",
       "      <th>3</th>\n",
       "      <td>8891869609</td>\n",
       "      <td>0.0</td>\n",
       "      <td>0.0</td>\n",
       "      <td>36.0</td>\n",
       "      <td>0.0</td>\n",
       "      <td>53.0</td>\n",
       "      <td>NaN</td>\n",
       "      <td>0.0</td>\n",
       "      <td>52.0</td>\n",
       "      <td>70.0</td>\n",
       "      <td>...</td>\n",
       "      <td>0.0</td>\n",
       "      <td>0.0</td>\n",
       "      <td>0.0</td>\n",
       "      <td>100.0</td>\n",
       "      <td>0.0</td>\n",
       "      <td>0.0</td>\n",
       "      <td>0.0</td>\n",
       "      <td>100.0</td>\n",
       "      <td>0.0</td>\n",
       "      <td>0.0</td>\n",
       "    </tr>\n",
       "    <tr>\n",
       "      <th>4</th>\n",
       "      <td>2006443827</td>\n",
       "      <td>0.0</td>\n",
       "      <td>0.0</td>\n",
       "      <td>75.0</td>\n",
       "      <td>42.0</td>\n",
       "      <td>100.0</td>\n",
       "      <td>NaN</td>\n",
       "      <td>0.0</td>\n",
       "      <td>82.0</td>\n",
       "      <td>100.0</td>\n",
       "      <td>...</td>\n",
       "      <td>0.0</td>\n",
       "      <td>0.0</td>\n",
       "      <td>0.0</td>\n",
       "      <td>0.0</td>\n",
       "      <td>0.0</td>\n",
       "      <td>100.0</td>\n",
       "      <td>0.0</td>\n",
       "      <td>100.0</td>\n",
       "      <td>0.0</td>\n",
       "      <td>0.0</td>\n",
       "    </tr>\n",
       "  </tbody>\n",
       "</table>\n",
       "<p>5 rows × 196 columns</p>\n",
       "</div>"
      ],
      "text/plain": [
       "           ID  B_37  S_24   S_4  S_14   B_25  D_38  B_30  D_138    P_2  ...  \\\n",
       "0  3337446730   0.0   0.0  85.0  55.0  100.0   NaN   2.0   51.0  100.0  ...   \n",
       "1  7888784125   0.0   0.0  75.0  68.0    0.0   NaN   8.0   55.0   68.0  ...   \n",
       "2  9871378905   0.0   0.0  76.0  28.0  100.0   NaN   0.0   85.0   92.0  ...   \n",
       "3  8891869609   0.0   0.0  36.0   0.0   53.0   NaN   0.0   52.0   70.0  ...   \n",
       "4  2006443827   0.0   0.0  75.0  42.0  100.0   NaN   0.0   82.0  100.0  ...   \n",
       "\n",
       "   S_5  onehot__CL  onehot__CO  onehot__CR  onehot__XL  onehot__XM  \\\n",
       "0  0.0         0.0       100.0         0.0         0.0         0.0   \n",
       "1  0.0       100.0         0.0         0.0         0.0         0.0   \n",
       "2  0.0         0.0       100.0         0.0         0.0         0.0   \n",
       "3  0.0         0.0         0.0       100.0         0.0         0.0   \n",
       "4  0.0         0.0         0.0         0.0         0.0       100.0   \n",
       "\n",
       "   onehot__XZ  onehot__O  onehot__R  onehot__U  \n",
       "0         0.0      100.0        0.0        0.0  \n",
       "1         0.0      100.0        0.0        0.0  \n",
       "2         0.0      100.0        0.0        0.0  \n",
       "3         0.0      100.0        0.0        0.0  \n",
       "4         0.0      100.0        0.0        0.0  \n",
       "\n",
       "[5 rows x 196 columns]"
      ]
     },
     "execution_count": 3,
     "metadata": {},
     "output_type": "execute_result"
    }
   ],
   "source": [
    "train.head()"
   ]
  },
  {
   "cell_type": "code",
   "execution_count": null,
   "metadata": {},
   "outputs": [],
   "source": []
  }
 ],
 "metadata": {
  "kernelspec": {
   "display_name": "Python 3.9.12 ('base')",
   "language": "python",
   "name": "python3"
  },
  "language_info": {
   "codemirror_mode": {
    "name": "ipython",
    "version": 3
   },
   "file_extension": ".py",
   "mimetype": "text/x-python",
   "name": "python",
   "nbconvert_exporter": "python",
   "pygments_lexer": "ipython3",
   "version": "3.9.12"
  },
  "orig_nbformat": 4,
  "vscode": {
   "interpreter": {
    "hash": "ede0d529427af67cb927abc705d3d5fce5091461148d2877c12a589af659ef67"
   }
  }
 },
 "nbformat": 4,
 "nbformat_minor": 2
}
